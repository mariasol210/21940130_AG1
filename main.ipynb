{
 "cells": [
  {
   "cell_type": "markdown",
   "metadata": {},
   "source": [
    "<img src=\"bak1.jpg\" alt=\"Panaderia\" align=\"left\" style=\"width: 110px;\"/> \n",
    "<img src=\"uem.png\" alt=\"Logo uem\" align=\"right\" style=\"width: 260px;\"/> "
   ]
  },
  {
   "cell_type": "markdown",
   "metadata": {},
   "source": [
    "--- \n",
    "<center> <font  face = \"Bedrock\" size=\"10\" color=\"#E67E22\">\n",
    "    <b> TRABAJO GRUPAL AG1 </b>\n",
    "</font> </center>"
   ]
  },
  {
   "cell_type": "markdown",
   "metadata": {},
   "source": [
    "<center> <font  size=\"4\" color=\"black\">\n",
    "    <b> ALGORITMO DE LA PANADERIA DE LAMPORT </b> \n",
    "    </font> </center>"
   ]
  },
  {
   "cell_type": "markdown",
   "metadata": {},
   "source": [
    "<center>  INTEGRANTES <br />\n",
    "    Torres Lopez Maria Sol  <br />\n",
    "    Flores Chancay Jorge Asdrubal <br />\n",
    "    Picón Sanchez Rafael <br />\n",
    "    Tensa Jimenez Alex </center>\n"
   ]
  },
  {
   "cell_type": "markdown",
   "metadata": {},
   "source": [
    "---\n",
    "<font size=\"5\" color=\"black\">\n",
    "1. Importar los modulos\n",
    "</font> "
   ]
  },
  {
   "cell_type": "markdown",
   "metadata": {},
   "source": [
    "El modulo _thread perimite trabajar con multiples hilos y el modulo time prove funciones relacionadas con el tiempo, que serán utiles para el manejo de los múltiples hilos."
   ]
  },
  {
   "cell_type": "code",
   "execution_count": 1,
   "metadata": {},
   "outputs": [],
   "source": [
    "import _thread\n",
    "import time"
   ]
  },
  {
   "cell_type": "markdown",
   "metadata": {},
   "source": [
    "<font size=\"5\" color=\"black\">\n",
    "2. Inicializar las variables globales\n",
    "</font> "
   ]
  },
  {
   "cell_type": "markdown",
   "metadata": {},
   "source": [
    "De aqui en adelante, se referirá a cada hilo como un \"cliente\" y el programa como la \"panaderia\""
   ]
  },
  {
   "cell_type": "code",
   "execution_count": 2,
   "metadata": {},
   "outputs": [],
   "source": [
    "# Se establece el tiempo de espera en cada seccion\n",
    "DELAY=1 \n",
    "\n",
    "#Se establece el numero de clientes (threads/hilos) en la panaderia \n",
    "NT=25  \n",
    "\n",
    "#Se escoge y asigna el numero de turno de cada cliente\n",
    "choosing=[False]*NT\n",
    "number=[0]*NT\n",
    "\n",
    "#Esta variable se usará para monitorear que los clientes estan en la seccion critica en un momento dado\n",
    "critical=[False]*NT "
   ]
  },
  {
   "cell_type": "markdown",
   "metadata": {},
   "source": [
    "<font size=\"5\" color=\"black\">\n",
    "3. Definicion de funciones\n",
    "</font> "
   ]
  },
  {
   "cell_type": "code",
   "execution_count": 3,
   "metadata": {},
   "outputs": [],
   "source": [
    "''' \n",
    "Funcion: Retorna el numero maximo en el arreglo de numeros\n",
    "Utilidad: Se buscará qué cliente tiene el último turno para que cuando un nuevo cliente pida un turno, \n",
    "saber quién es último y asignarle al nuevo el último + 1 \n",
    "'''\n",
    "def max_number():\n",
    "    global choosing\n",
    "    global number\n",
    "    max=-1\n",
    "    for i in number:\n",
    "        if(i>max):\n",
    "            max=i\n",
    "    return max"
   ]
  },
  {
   "cell_type": "code",
   "execution_count": null,
   "metadata": {},
   "outputs": [],
   "source": [
    "''' \n",
    "Funcion: Hace la comparacion de tuplas\n",
    "Utilidad: \n",
    "    a<c : el numero de turno del cliente j es menor que el turno del cliente i\n",
    "    a==c: se puede dar la casualidad de que ambos hilos tengan el mismo turno para eso la siguiente condicion \n",
    "    b<d : si dos o más clientes tienen el mismo número de turno, tiene más prioridad el cliente que tenga el \n",
    "    identificador(son unicos) con un número más bajo\n",
    "'''\n",
    "def comparacion_tuplas(a,b,c,d):\n",
    "    if(a<c):\n",
    "        return True\n",
    "    elif (a==c and b<d):\n",
    "        return True\n",
    "    return False\n",
    "\n",
    "'''\n",
    "a= numero de turno del cliente j\n",
    "b= cliente j y su identificador\n",
    "c= numero de turno del cliente i\n",
    "b= cliente i y su identificador\n",
    "'''"
   ]
  },
  {
   "cell_type": "code",
   "execution_count": 5,
   "metadata": {},
   "outputs": [],
   "source": [
    "''' \n",
    "Funcion: Asigna turno a un cliente i y recorre todos clientes comprobando que la seccion critica esté libre cuando sea su turno.\n",
    "Utilidad: Hace que cada cliente tenga turno y comprueba si hay un cliente con turno menor, \n",
    "\n",
    "'''\n",
    "def lock(i):\n",
    "    global choosing\n",
    "    global number\n",
    "    choosing[i]=True\n",
    "    number[i]=max_number()+1\n",
    "    choosing[i]=False\n",
    "    for j in range(NT):\n",
    "        \n",
    "        # si hay algún cliente escogiendo turno, se espera a que lo tenga antes de continuar\n",
    "        while(choosing[j]):\n",
    "            continue\n",
    "        # Si otro cliente j tiene turno anterior a cliente i, se espera a que salga\n",
    "        # de la sección crítica y se prosigue a comprobar el estado del siguiente.\n",
    "        while(number[j]!=0 and comparacion_tuplas(number[j],j,number[i],i)):\n",
    "            continue\n",
    "            "
   ]
  },
  {
   "cell_type": "code",
   "execution_count": 6,
   "metadata": {},
   "outputs": [],
   "source": [
    "'''\n",
    "Funcion: Asigna el numero de turno a 0 del cliente\n",
    "Utilidad: Dice que el cliente no quiere entrar a la seccion critica (mirar el segundo while de lock donde debe ser != 0\n",
    "para poder entrar)\n",
    "'''\n",
    "def unlock(i):\n",
    "    global choosing\n",
    "    global number\n",
    "    number[i]=0\n",
    "    "
   ]
  },
  {
   "cell_type": "code",
   "execution_count": 7,
   "metadata": {},
   "outputs": [],
   "source": [
    "'''\n",
    "Funcion: Ejecutar el hilo i (atender al cliente i)\n",
    "Utilidad: El cliente i es atendido (entra a la sección crítica) y al salir su turno se iguala a 0 \n",
    "para señalar que ya no quiere ser atendido.\n",
    "'''\n",
    "def ejecutar_thread(i):\n",
    "    while(True):\n",
    "        #entra a la seccion critica\n",
    "        lock(i)\n",
    "        print(\"Thread \"+str(i)+\" en seccion critica\\n\")\n",
    "        critical[i]=True\n",
    "        time.sleep(DELAY)\n",
    "        critical[i]=False\n",
    "        \n",
    "        #sale de la seccion critica\n",
    "        unlock(i)\n",
    "        print(\"Thread \"+str(i)+\" fuera de seccion critica\\n\")\n",
    "        time.sleep(DELAY)\n"
   ]
  },
  {
   "cell_type": "code",
   "execution_count": 8,
   "metadata": {},
   "outputs": [],
   "source": [
    "'''\n",
    "Funcion: Monitorea en que seccion estan los threads\n",
    "Utilidad: Saber si el panadero está ocupado atendiendo a un cliente antes de mandarle a otro para que atienda\n",
    "'''\n",
    "#True: en la seccion critica\n",
    "#False: fuera de ella\n",
    "def monitorear():\n",
    "    tiempo=1\n",
    "    while(True):\n",
    "        print (\"Tiempo: \"+str(tiempo)+\"\\n\")\n",
    "        #solo puede haber un True en el vector que se imprime\n",
    "        #porque solo hay un thread en la seccion critica a la vez\n",
    "        print(critical)\n",
    "        tiempo+=1\n",
    "        time.sleep(1)\n",
    "  "
   ]
  },
  {
   "cell_type": "code",
   "execution_count": 9,
   "metadata": {},
   "outputs": [],
   "source": [
    "'''\n",
    "Funcion: Crea la cantidad de hilos (clientes) que definimos en el paso 2\n",
    "Utilidad: Llenar la panaderia de clientes que luego serán atendidos \n",
    "'''\n",
    "def bakery():\n",
    "    for i in range(NT):\n",
    "        _thread.start_new_thread( ejecutar_thread, (i,) )\n",
    "        "
   ]
  },
  {
   "cell_type": "markdown",
   "metadata": {},
   "source": [
    "<font size=\"5\" color=\"black\">\n",
    "4. Ejecucion del programa\n",
    "</font> "
   ]
  },
  {
   "cell_type": "code",
   "execution_count": null,
   "metadata": {},
   "outputs": [
    {
     "name": "stdout",
     "output_type": "stream",
     "text": [
      "Tiempo: 1\n",
      "Thread 24 en seccion critica\n",
      "\n",
      "\n",
      "[False, False, False, False, False, False, False, False, False, False, False, False, False, False, False, False, False, False, False, False, False, False, False, False, True]\n",
      "Thread 24 fuera de seccion critica\n",
      "\n",
      "Thread 0 en seccion critica\n",
      "\n",
      "Tiempo: 2\n",
      "\n",
      "[True, False, False, False, False, False, False, False, False, False, False, False, False, False, False, False, False, False, False, False, False, False, False, False, False]\n",
      "Thread 0 fuera de seccion critica\n",
      "\n",
      "Thread 1 en seccion critica\n",
      "\n",
      "Tiempo: 3\n",
      "\n",
      "[False, True, False, False, False, False, False, False, False, False, False, False, False, False, False, False, False, False, False, False, False, False, False, False, False]\n"
     ]
    }
   ],
   "source": [
    "bakery()\n",
    "monitorear()"
   ]
  },
  {
   "cell_type": "markdown",
   "metadata": {},
   "source": [
    "---"
   ]
  },
  {
   "cell_type": "markdown",
   "metadata": {},
   "source": [
    "#### Codigo original: \n",
    "https://github.com/4a7/bakery/blob/master/bakery.py\n",
    "\n",
    "#### Referencia adicional: \n",
    "https://www.geeksforgeeks.org/bakery-algorithm-in-process-synchronization/ <br />\n",
    "https://github.com/laurasgm/lamport/blob/master/lamport.py <br />\n",
    "    "
   ]
  },
  {
   "cell_type": "markdown",
   "metadata": {},
   "source": [
    "---"
   ]
  }
 ],
 "metadata": {
  "kernelspec": {
   "display_name": "Python 3",
   "language": "python",
   "name": "python3"
  },
  "language_info": {
   "codemirror_mode": {
    "name": "ipython",
    "version": 3
   },
   "file_extension": ".py",
   "mimetype": "text/x-python",
   "name": "python",
   "nbconvert_exporter": "python",
   "pygments_lexer": "ipython3",
   "version": "3.8.5"
  }
 },
 "nbformat": 4,
 "nbformat_minor": 4
}
